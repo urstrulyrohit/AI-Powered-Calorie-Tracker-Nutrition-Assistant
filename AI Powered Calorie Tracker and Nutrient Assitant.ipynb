{
 "cells": [
  {
   "cell_type": "code",
   "execution_count": 1,
   "id": "63392691-2c8c-4dbe-91fe-d418889d8e9a",
   "metadata": {},
   "outputs": [],
   "source": [
    "%%capture\n",
    "import warnings\n",
    "warnings.filterwarnings(\"ignore\")\n",
    "\n",
    "!pip install langchain langchain-community openai requests gradio --quiet"
   ]
  },
  {
   "cell_type": "code",
   "execution_count": 2,
   "id": "88085ab4-eff0-4648-970c-d49106b7c9d8",
   "metadata": {},
   "outputs": [],
   "source": [
    "import os\n",
    "import requests\n",
    "import pandas as pd\n",
    "from langchain.chat_models import ChatOpenAI\n",
    "import gradio as gr\n",
    "from langchain.tools import tool\n",
    "from langchain.agents import initialize_agent"
   ]
  },
  {
   "cell_type": "code",
   "execution_count": 3,
   "id": "24e0fa56-6054-471e-878f-9761018a51d4",
   "metadata": {},
   "outputs": [],
   "source": [
    "#API keys\n",
    "os.environ[\"OPENAI_API_KEY\"] = \"ENTER YOUR OPENAI KEY HERE\"\n",
    "NUTRITIONIX_APP_ID = \"ENTER YOUR NUTRITIONIX_API_ID HERE\"\n",
    "NUTRITIONIX_API_KEY = \"ENTER YOUR NUTRITIONIX_API_KEY HERE\"\n",
    "USDA_API_KEY = \"ENTER YOUR USDA_API_KEY HERE\"\n",
    "USDA_API_URL = \"ENTER YOUR USDA_API_URL HERE\""
   ]
  },
  {
   "cell_type": "code",
   "execution_count": 4,
   "id": "548293d1-ae35-4049-8146-af2780651ecf",
   "metadata": {},
   "outputs": [
    {
     "name": "stderr",
     "output_type": "stream",
     "text": [
      "C:\\Users\\Rohit Chowdary\\AppData\\Local\\Temp\\ipykernel_25332\\1505246425.py:5: LangChainDeprecationWarning: The class `ChatOpenAI` was deprecated in LangChain 0.0.10 and will be removed in 1.0. An updated version of the class exists in the :class:`~langchain-openai package and should be used instead. To use it run `pip install -U :class:`~langchain-openai` and import as `from :class:`~langchain_openai import ChatOpenAI``.\n",
      "  llm = ChatOpenAI(model_name=\"gpt-3.5-turbo\", temperature=0.7)\n"
     ]
    }
   ],
   "source": [
    "# Initialize calorie log as a Pandas DataFrame\n",
    "calorie_log = pd.DataFrame(columns=[\"Date\", \"Meal\", \"Food\", \"Calories\"])\n",
    "\n",
    "# Initialize LangChain ChatOpenAI model\n",
    "llm = ChatOpenAI(model_name=\"gpt-3.5-turbo\", temperature=0.7)\n"
   ]
  },
  {
   "cell_type": "code",
   "execution_count": 5,
   "id": "f8e91442-bcd5-43f4-aebf-0820df802afc",
   "metadata": {},
   "outputs": [],
   "source": [
    "@tool\n",
    "def fetch_calories_tool(food_item: str) -> str:\n",
    "    \"\"\"Fetch calorie information for a given food item using the Nutritionix API.\"\"\"\n",
    "    url = \"https://trackapi.nutritionix.com/v2/natural/nutrients\"\n",
    "    headers = {\n",
    "        \"x-app-id\": NUTRITIONIX_APP_ID,\n",
    "        \"x-app-key\": NUTRITIONIX_API_KEY,\n",
    "        \"Content-Type\": \"application/json\"\n",
    "    }\n",
    "    data = {\"query\": food_item}\n",
    "    response = requests.post(url, headers=headers, json=data)\n",
    "    if response.status_code == 200:\n",
    "        result = response.json()\n",
    "        if result.get(\"foods\"):\n",
    "            calories = result[\"foods\"][0][\"nf_calories\"]\n",
    "            return f\"The calorie content of {food_item} is {calories} kcal.\"\n",
    "    return f\"Could not fetch calorie information for {food_item}.\""
   ]
  },
  {
   "cell_type": "code",
   "execution_count": 6,
   "id": "51978744-c834-4bdb-917a-364f346ec4ad",
   "metadata": {},
   "outputs": [],
   "source": [
    "@tool\n",
    "def get_major_nutrients_tool(food_item: str) -> str:\n",
    "    \"\"\"Fetch major nutrient data (calories, protein, carbs, fat) using the USDA API.\"\"\"\n",
    "    params = {\"query\": food_item, \"api_key\": USDA_API_KEY}\n",
    "    response = requests.get(USDA_API_URL, params=params)\n",
    "    if response.status_code == 200:\n",
    "        data = response.json()\n",
    "        if data[\"foods\"]:\n",
    "            food = data[\"foods\"][0]\n",
    "            nutrients = {n[\"nutrientName\"]: n[\"value\"] for n in food[\"foodNutrients\"]}\n",
    "            major_nutrients = {\n",
    "                \"Calories\": nutrients.get(\"Energy (kcal)\", \"N/A\"),\n",
    "                \"Protein\": nutrients.get(\"Protein\", \"N/A\"),\n",
    "                \"Carbohydrates\": nutrients.get(\"Carbohydrate, by difference\", \"N/A\"),\n",
    "                \"Fat\": nutrients.get(\"Total lipid (fat)\", \"N/A\")\n",
    "            }\n",
    "            return (\n",
    "                f\"Major nutrients for {food['description']}:\\n\"\n",
    "                f\"- Protein: {major_nutrients['Protein']} g\\n\"\n",
    "                f\"- Carbs: {major_nutrients['Carbohydrates']} g\\n\"\n",
    "                f\"- Fat: {major_nutrients['Fat']} g\"\n",
    "            )\n",
    "    return f\"Could not fetch nutrient information for {food_item}.\"\n"
   ]
  },
  {
   "cell_type": "code",
   "execution_count": 7,
   "id": "27f35015-a75d-467c-a054-c659baeac7c9",
   "metadata": {},
   "outputs": [],
   "source": [
    "def suggest_meal_with_nutrients_tool(remaining_calories: str) -> str:\n",
    "    \"\"\"\n",
    "    Suggest meals/snacks under the given calorie input and provide short nutrient details.\n",
    "    \"\"\"\n",
    "    try:\n",
    "        remaining_calories = float(remaining_calories)\n",
    "    except ValueError:\n",
    "        return \"Invalid input. Please provide a numeric value for remaining calories.\"\n",
    "    \n",
    "    # Using LLM to generate meal suggestions\n",
    "    prompt = f\"Suggest three healthy meals/snacks under {remaining_calories} calories. List them in bullet points.\"\n",
    "    meal_suggestions = llm.predict(prompt)\n",
    "    meal_suggestions_list = [meal.strip(\"- \").strip() for meal in meal_suggestions.split(\"\\n\") if meal.startswith(\"-\")]\n",
    "    \n",
    "    if not meal_suggestions_list:\n",
    "        return \"No valid meal suggestions generated.\"\n",
    "    \n",
    "    # Start building response\n",
    "    response = f\"Calorie Input Provided: {remaining_calories} kcal\\n\\n\"\n",
    "    response += \"Meal suggestions with nutrient details:\\n\"\n",
    "    \n",
    "    # Fetch nutrient details for each suggestion using the tool\n",
    "    for meal in meal_suggestions_list:\n",
    "        nutrient_info = get_major_nutrients_tool(meal)\n",
    "        response += f\"- {nutrient_info}\\n\\n\"\n",
    "    return response\n"
   ]
  },
  {
   "cell_type": "code",
   "execution_count": 8,
   "id": "e4d03af9-d2bf-408b-8c55-c2bbadcd89ac",
   "metadata": {},
   "outputs": [
    {
     "name": "stderr",
     "output_type": "stream",
     "text": [
      "C:\\Users\\Rohit Chowdary\\AppData\\Local\\Temp\\ipykernel_25332\\3068156768.py:4: LangChainDeprecationWarning: LangChain agents will continue to be supported, but it is recommended for new use cases to be built with LangGraph. LangGraph offers a more flexible and full-featured framework for building agents, including support for tool-calling, persistence of state, and human-in-the-loop workflows. See LangGraph documentation for more details: https://langchain-ai.github.io/langgraph/. Refer here for its pre-built ReAct agent: https://langchain-ai.github.io/langgraph/how-tos/create-react-agent/\n",
      "  agent = initialize_agent(tools, chat_model, agent=\"zero-shot-react-description\", handle_parsing_errors=True)\n"
     ]
    }
   ],
   "source": [
    "# Initialize LangChain agent\n",
    "chat_model = ChatOpenAI(temperature=0.3)\n",
    "tools = [fetch_calories_tool, get_major_nutrients_tool]\n",
    "agent = initialize_agent(tools, chat_model, agent=\"zero-shot-react-description\", handle_parsing_errors=True)"
   ]
  },
  {
   "cell_type": "code",
   "execution_count": 10,
   "id": "6be1fc8e-b5a9-4d51-bfdd-2fdb08701dd9",
   "metadata": {},
   "outputs": [],
   "source": [
    "# Updated Functions Using Agent\n",
    "def log_meal_gradio(food_item, meal_type):\n",
    "    \"\"\"Handles meal logging via the agent.\"\"\"\n",
    "    global calorie_log\n",
    "    \n",
    "    if not food_item or not meal_type:\n",
    "        return \"Please provide both a food item and a meal type.\"\n",
    "    \n",
    "    # Query the agent for calorie information\n",
    "    query = f\"Fetch the calorie content of {food_item}.\"\n",
    "    try:\n",
    "        calories_info = agent.run(query)\n",
    "        calories = float(calories_info.split(\"is\")[1].split(\"kcal\")[0].strip())  # Extract calorie value\n",
    "    except (IndexError, ValueError):\n",
    "        return \"Could not fetch valid calorie information for the given food item.\"\n",
    "    \n",
    "    # Log the meal\n",
    "    new_entry = pd.DataFrame([{\n",
    "        \"Date\": pd.Timestamp.now().date(),\n",
    "        \"Meal\": meal_type,\n",
    "        \"Food\": food_item,\n",
    "        \"Calories\": calories\n",
    "    }])\n",
    "    calorie_log = pd.concat([calorie_log, new_entry], ignore_index=True)\n",
    "    \n",
    "    return f\"Logged: {food_item} ({meal_type}) with {calories} kcal.\""
   ]
  },
  {
   "cell_type": "code",
   "execution_count": 11,
   "id": "2be222c7-16fd-4345-a034-e51eb8ff279c",
   "metadata": {},
   "outputs": [],
   "source": [
    "def get_calorie_summary_gradio():\n",
    "    \"\"\"Provides a summary of the logged meals.\"\"\"\n",
    "    global calorie_log\n",
    "    \n",
    "    if calorie_log.empty:\n",
    "        return \"No meals have been logged yet.\"\n",
    "    \n",
    "    # Generate summary\n",
    "    total_calories = calorie_log[\"Calories\"].sum()\n",
    "    summary = calorie_log.groupby([\"Meal\"])[\"Calories\"].sum().reset_index()\n",
    "    summary_text = \"Calorie Summary:\\n\"\n",
    "    for _, row in summary.iterrows():\n",
    "        summary_text += f\"- {row['Meal']}: {row['Calories']} kcal\\n\"\n",
    "    \n",
    "    summary_text += f\"Total Calories: {total_calories} kcal\"\n",
    "    return summary_text"
   ]
  },
  {
   "cell_type": "code",
   "execution_count": 16,
   "id": "3195a7cf-123a-40f7-88a9-a73120480413",
   "metadata": {},
   "outputs": [
    {
     "name": "stdout",
     "output_type": "stream",
     "text": [
      "Running on local URL:  http://127.0.0.1:7861\n",
      "Running on public URL: https://7817f7c3a730d4ffa8.gradio.live\n",
      "\n",
      "This share link expires in 72 hours. For free permanent hosting and GPU upgrades, run `gradio deploy` from Terminal to deploy to Spaces (https://huggingface.co/spaces)\n"
     ]
    },
    {
     "data": {
      "text/html": [
       "<div><iframe src=\"https://7817f7c3a730d4ffa8.gradio.live\" width=\"100%\" height=\"500\" allow=\"autoplay; camera; microphone; clipboard-read; clipboard-write;\" frameborder=\"0\" allowfullscreen></iframe></div>"
      ],
      "text/plain": [
       "<IPython.core.display.HTML object>"
      ]
     },
     "metadata": {},
     "output_type": "display_data"
    }
   ],
   "source": [
    "# Gradio interface remains the same\n",
    "with gr.Blocks() as demo:\n",
    "    gr.Markdown(\"# 🥗 Calorie Tracker and Nutrient Assistant\")\n",
    "    gr.Markdown(\"Log your meals, get calorie summaries, or receive meal and nutrient suggestions based on your calorie limits.\")\n",
    "    \n",
    "    with gr.Row():\n",
    "        with gr.Column():\n",
    "            gr.Markdown(\"### Log a Meal\")\n",
    "            food_input = gr.Textbox(label=\"Food Item\", placeholder=\"E.g., Pasta\")\n",
    "            meal_type_dropdown = gr.Dropdown([\"Breakfast\", \"Lunch\", \"Dinner\", \"Snack\"], label=\"Meal Type\", value=\"Lunch\")\n",
    "            log_meal_button = gr.Button(\"Log Meal\")\n",
    "        \n",
    "        with gr.Column():\n",
    "            gr.Markdown(\"### Get Calorie Summary\")\n",
    "            get_summary_button = gr.Button(\"Get Summary\")\n",
    "        \n",
    "        with gr.Column():\n",
    "            gr.Markdown(\"### Suggest a Meal with Nutrients\")\n",
    "            remaining_calories_input = gr.Textbox(label=\"Remaining Calories\", placeholder=\"Enter the calories E.g., 500\")\n",
    "            suggest_meal_button = gr.Button(\"Suggest Meal\")\n",
    "    \n",
    "    response_output = gr.Textbox(label=\"Response\", interactive=False)\n",
    "    \n",
    "    log_meal_button.click(log_meal_gradio, inputs=[food_input, meal_type_dropdown], outputs=response_output)\n",
    "    get_summary_button.click(get_calorie_summary_gradio, inputs=None, outputs=response_output)\n",
    "    suggest_meal_button.click(suggest_meal_with_nutrients_tool, inputs=remaining_calories_input, outputs=response_output)\n",
    "\n",
    "if __name__ == \"__main__\":\n",
    "    demo.launch(share=True)\n"
   ]
  },
  {
   "cell_type": "code",
   "execution_count": null,
   "id": "7fe1468b-f2fc-4109-988e-fefe1d2f6cf1",
   "metadata": {},
   "outputs": [],
   "source": []
  }
 ],
 "metadata": {
  "kernelspec": {
   "display_name": "Python 3 (ipykernel)",
   "language": "python",
   "name": "python3"
  },
  "language_info": {
   "codemirror_mode": {
    "name": "ipython",
    "version": 3
   },
   "file_extension": ".py",
   "mimetype": "text/x-python",
   "name": "python",
   "nbconvert_exporter": "python",
   "pygments_lexer": "ipython3",
   "version": "3.9.7"
  }
 },
 "nbformat": 4,
 "nbformat_minor": 5
}
